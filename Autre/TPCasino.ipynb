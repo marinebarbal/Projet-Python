{
 "cells": [
  {
   "cell_type": "markdown",
   "metadata": {},
   "source": [
    "# TP année bissectile"
   ]
  },
  {
   "cell_type": "code",
   "execution_count": 32,
   "metadata": {},
   "outputs": [
    {
     "name": "stdout",
     "output_type": "stream",
     "text": [
      "Ecrivez l'année : 1912\n"
     ]
    }
   ],
   "source": [
    "année = input(\"Ecrivez l'année : \")\n",
    "année=int(année)"
   ]
  },
  {
   "cell_type": "code",
   "execution_count": 34,
   "metadata": {},
   "outputs": [
    {
     "name": "stdout",
     "output_type": "stream",
     "text": [
      "Année bissextile.\n"
     ]
    }
   ],
   "source": [
    "if (année % 4 !=0) :\n",
    "    print(\"Année non bissextile.\")\n",
    "else :\n",
    "    if(année % 4 == 100) :\n",
    "        if(année % 4 == 400):\n",
    "            print(\"Année bissextile.\")\n",
    "        else :\n",
    "            print(\"Année non bissextile.\")\n",
    "    else :\n",
    "        print(\"Année bissextile.\")\n"
   ]
  },
  {
   "cell_type": "code",
   "execution_count": 35,
   "metadata": {},
   "outputs": [
    {
     "name": "stdout",
     "output_type": "stream",
     "text": [
      "Année bissextile.\n"
     ]
    }
   ],
   "source": [
    "if( (année%4==0 and année % 4 == 100 and année % 4 == 400) or (année%4==0 and année % 4 != 100) ) :\n",
    "  print(\"Année bissextile.\")\n",
    "else :\n",
    "   print(\"Année non bissextile.\")"
   ]
  },
  {
   "cell_type": "markdown",
   "metadata": {},
   "source": [
    "# TP fonction lambda"
   ]
  },
  {
   "cell_type": "code",
   "execution_count": 37,
   "metadata": {},
   "outputs": [],
   "source": [
    "f= lambda x,y : x*y"
   ]
  },
  {
   "cell_type": "code",
   "execution_count": 38,
   "metadata": {},
   "outputs": [
    {
     "data": {
      "text/plain": [
       "6"
      ]
     },
     "execution_count": 38,
     "metadata": {},
     "output_type": "execute_result"
    }
   ],
   "source": [
    "f(2,3)"
   ]
  },
  {
   "cell_type": "markdown",
   "metadata": {},
   "source": [
    "# Tp Casino"
   ]
  },
  {
   "cell_type": "code",
   "execution_count": null,
   "metadata": {},
   "outputs": [],
   "source": [
    "import random\n",
    "import math\n",
    "gain = 50"
   ]
  },
  {
   "cell_type": "code",
   "execution_count": null,
   "metadata": {},
   "outputs": [],
   "source": [
    "n = input(\"Rentrez un nombre: \")\n",
    "try:\n",
    "    n=int(n)\n",
    "except ValueError:\n",
    "n=int(n)\n",
    "ng=random.randrange(50)\n",
    "print(\"La roulette tourne... le numero gagnant est:\",ng)"
   ]
  },
  {
   "cell_type": "code",
   "execution_count": 43,
   "metadata": {},
   "outputs": [
    {
     "name": "stdout",
     "output_type": "stream",
     "text": [
      "Bonne couleur\n",
      "Votre gain est de : 56\n"
     ]
    }
   ],
   "source": [
    "if (ng==n):\n",
    "    gain=gain+n*3\n",
    "    print(\"Bon numero\")\n",
    "else:\n",
    "    if(ng%2==n%2):\n",
    "        gain=gain+math.ceil(n*0.5)\n",
    "        print(\"Bonne couleur\")\n",
    "    else:\n",
    "        gain=gain-n\n",
    "        print(\"Mauvais numero et couleur\")\n",
    "print(\"Votre gain est de :\", gain)      \n",
    "    "
   ]
  },
  {
   "cell_type": "markdown",
   "metadata": {},
   "source": [
    "# TP liste"
   ]
  },
  {
   "cell_type": "code",
   "execution_count": 11,
   "metadata": {},
   "outputs": [],
   "source": [
    " inventaire = [ (\"pommes\", 22),(\"melons\", 4),(\"poires\", 18),(\"fraises\", 76),(\"prunes\", 51),]"
   ]
  },
  {
   "cell_type": "code",
   "execution_count": 12,
   "metadata": {},
   "outputs": [
    {
     "data": {
      "text/plain": [
       "[('pommes', 22),\n",
       " ('melons', 4),\n",
       " ('poires', 18),\n",
       " ('fraises', 76),\n",
       " ('prunes', 51)]"
      ]
     },
     "execution_count": 12,
     "metadata": {},
     "output_type": "execute_result"
    }
   ],
   "source": [
    "inventaire"
   ]
  },
  {
   "cell_type": "code",
   "execution_count": 13,
   "metadata": {},
   "outputs": [],
   "source": [
    "inventaire= [(j,i) for i,j in inventaire]"
   ]
  },
  {
   "cell_type": "code",
   "execution_count": 14,
   "metadata": {},
   "outputs": [],
   "source": [
    "inventaire.sort()"
   ]
  },
  {
   "cell_type": "code",
   "execution_count": 15,
   "metadata": {},
   "outputs": [
    {
     "data": {
      "text/plain": [
       "[(4, 'melons'),\n",
       " (18, 'poires'),\n",
       " (22, 'pommes'),\n",
       " (51, 'prunes'),\n",
       " (76, 'fraises')]"
      ]
     },
     "execution_count": 15,
     "metadata": {},
     "output_type": "execute_result"
    }
   ],
   "source": [
    "inventaire"
   ]
  },
  {
   "cell_type": "markdown",
   "metadata": {},
   "source": [
    "# TP Pendu "
   ]
  },
  {
   "cell_type": "code",
   "execution_count": 16,
   "metadata": {},
   "outputs": [],
   "source": [
    "import os\n",
    "import pickle\n",
    "from random import choice\n",
    "\n",
    "from PenduListeMot import *\n"
   ]
  },
  {
   "cell_type": "code",
   "execution_count": 17,
   "metadata": {},
   "outputs": [
    {
     "ename": "NameError",
     "evalue": "name 'PenduListeMot' is not defined",
     "output_type": "error",
     "traceback": [
      "\u001b[1;31m---------------------------------------------------------------------------\u001b[0m",
      "\u001b[1;31mNameError\u001b[0m                                 Traceback (most recent call last)",
      "\u001b[1;32m<ipython-input-17-f8774b953d43>\u001b[0m in \u001b[0;36m<module>\u001b[1;34m()\u001b[0m\n\u001b[1;32m----> 1\u001b[1;33m \u001b[0mPenduListeMot\u001b[0m\u001b[1;33m\u001b[0m\u001b[0m\n\u001b[0m",
      "\u001b[1;31mNameError\u001b[0m: name 'PenduListeMot' is not defined"
     ]
    }
   ],
   "source": [
    "\n",
    "# Gestion des scores\n",
    "\n",
    "def recup_scores():\n",
    "    \"\"\"Cette fonction récupère les scores enregistrés si le fichier existe.\n",
    "    Dans tous les cas, on renvoie un dictionnaire, \n",
    "    soit l'objet dépicklé,\n",
    "    soit un dictionnaire vide.\n",
    "\n",
    "    On s'appuie sur nom_fichier_scores défini dans donnees.py\"\"\"\n",
    "    \n",
    "    if os.path.exists(\\): # Le fichier existe"
   ]
  },
  {
   "cell_type": "code",
   "execution_count": null,
   "metadata": {},
   "outputs": [],
   "source": []
  }
 ],
 "metadata": {
  "kernelspec": {
   "display_name": "Python 3",
   "language": "python",
   "name": "python3"
  },
  "language_info": {
   "codemirror_mode": {
    "name": "ipython",
    "version": 3
   },
   "file_extension": ".py",
   "mimetype": "text/x-python",
   "name": "python",
   "nbconvert_exporter": "python",
   "pygments_lexer": "ipython3",
   "version": "3.6.4"
  }
 },
 "nbformat": 4,
 "nbformat_minor": 2
}
